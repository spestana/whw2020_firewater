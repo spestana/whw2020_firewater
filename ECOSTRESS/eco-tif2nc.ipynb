{
 "cells": [
  {
   "cell_type": "markdown",
   "metadata": {},
   "source": [
    "# ECOSTRESS data wrangling"
   ]
  },
  {
   "cell_type": "markdown",
   "metadata": {},
   "source": [
    "From [AppEEARS](https://lpdaacsvc.cr.usgs.gov/appeears), I've downloaded a whole collection of geotiffs for ECOSTRESS LST for a bounding box around Clear Lake. \n",
    "\n",
    "Open all those images and convert to NetCDF files with some data formatting/cleanup."
   ]
  },
  {
   "cell_type": "code",
   "execution_count": 1,
   "metadata": {},
   "outputs": [],
   "source": [
    "import os\n",
    "import xarray as xr\n",
    "import rioxarray as rioxr\n",
    "import numpy as np\n",
    "import pandas as pd\n",
    "import geopandas as gpd\n",
    "from shapely.geometry import box, mapping\n",
    "\n",
    "import matplotlib.pyplot as plt\n",
    "%matplotlib inline"
   ]
  },
  {
   "cell_type": "markdown",
   "metadata": {},
   "source": [
    "Set the path to the top level directory where all our ECOSTRESS images are, their file extension, and product name."
   ]
  },
  {
   "cell_type": "code",
   "execution_count": 2,
   "metadata": {},
   "outputs": [],
   "source": [
    "eco_tiff_path = '/home/jovyan/data/ECOSTRESS/'\n",
    "ext = '.tif'\n",
    "product = 'SDS_LST_doy'"
   ]
  },
  {
   "cell_type": "markdown",
   "metadata": {},
   "source": [
    "Get a list of all our ECOSTRESS LST files"
   ]
  },
  {
   "cell_type": "code",
   "execution_count": 3,
   "metadata": {},
   "outputs": [],
   "source": [
    "# get list of all tif files\n",
    "file_list = []\n",
    "for root, dirs, files in os.walk(eco_tiff_path):\n",
    "    for file in files:\n",
    "        if file.endswith(ext):\n",
    "            if product in file:\n",
    "                 file_list.append( os.path.join(root, file) ) "
   ]
  },
  {
   "cell_type": "code",
   "execution_count": 4,
   "metadata": {},
   "outputs": [
    {
     "name": "stdout",
     "output_type": "stream",
     "text": [
      "Found 358 files\n"
     ]
    }
   ],
   "source": [
    "print('Found {} files'.format(len(file_list)))"
   ]
  },
  {
   "cell_type": "markdown",
   "metadata": {},
   "source": [
    "Open each file, reformat and export to a NetCDF file"
   ]
  },
  {
   "cell_type": "code",
   "execution_count": 5,
   "metadata": {},
   "outputs": [],
   "source": [
    "rasterlist = [xr.open_rasterio(x, chunks={'x': 256, 'y': 256}) for x in file_list]"
   ]
  },
  {
   "cell_type": "code",
   "execution_count": 6,
   "metadata": {},
   "outputs": [],
   "source": [
    "for i, this_eco_lst in enumerate(rasterlist):\n",
    "    \n",
    "    # open this file\n",
    "    #this_eco_lst = xr.open_rasterio(file_list[i])\n",
    "    \n",
    "    # get the timestring from the filename\n",
    "    file_datestring = file_list[i].split('/')[-1].split('_')[-2][3:]\n",
    "    \n",
    "    # convert to pandas timestamp\n",
    "    file_timestamp = pd.to_datetime(file_datestring, format='%Y%j%H%M%S')\n",
    "    \n",
    "    # unpack all our values\n",
    "    lst = this_eco_lst.values\n",
    "    lon = this_eco_lst.x.values\n",
    "    lat = this_eco_lst.y.values\n",
    "    time = np.array([file_timestamp])\n",
    "    metadata = this_eco_lst.attrs\n",
    "       \n",
    "    # repackage into a DataArray\n",
    "    eco_lst_da = xr.DataArray(lst, \n",
    "                              coords=[time, lat, lon], \n",
    "                              dims=['time', 'y', 'x'],  \n",
    "                              name='lst', \n",
    "                              attrs=metadata)\n",
    "    \n",
    "    eco_lst_da.to_netcdf('{}.nc'.format(file_list[i]))\n"
   ]
  }
 ],
 "metadata": {
  "kernelspec": {
   "display_name": "Python [conda env:firewaterenv]",
   "language": "python",
   "name": "conda-env-firewaterenv-py"
  },
  "language_info": {
   "codemirror_mode": {
    "name": "ipython",
    "version": 3
   },
   "file_extension": ".py",
   "mimetype": "text/x-python",
   "name": "python",
   "nbconvert_exporter": "python",
   "pygments_lexer": "ipython3",
   "version": "3.6.11"
  }
 },
 "nbformat": 4,
 "nbformat_minor": 4
}
